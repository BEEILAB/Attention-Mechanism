{
 "cells": [
  {
   "cell_type": "code",
   "execution_count": 18,
   "id": "df5581d7",
   "metadata": {},
   "outputs": [],
   "source": [
    "import tensorflow as tf\n",
    "from tensorflow.keras.layers import Input, Conv2D, GlobalAveragePooling2D, Dense, Reshape, Multiply"
   ]
  },
  {
   "cell_type": "markdown",
   "id": "6f3256cc",
   "metadata": {},
   "source": [
    "# SENet"
   ]
  },
  {
   "cell_type": "code",
   "execution_count": 19,
   "id": "451e8527",
   "metadata": {},
   "outputs": [],
   "source": [
    "def squeeze_excite_block(input_tensor, ratio=16):\n",
    "    channels = input_tensor.shape[-1]\n",
    "    \n",
    "    # Squeeze operation\n",
    "    squeeze = GlobalAveragePooling2D()(input_tensor)\n",
    "    \n",
    "    # Excitation operation\n",
    "    excitation = Dense(channels // ratio, activation='relu')(squeeze)\n",
    "    excitation = Dense(channels, activation='sigmoid')(excitation)\n",
    "    excitation = Reshape((1, 1, channels))(excitation)\n",
    "    \n",
    "    # Scale the input with the excitation weights\n",
    "    scaled_input = Multiply()([input_tensor, excitation])\n",
    "    \n",
    "    return scaled_input"
   ]
  },
  {
   "cell_type": "code",
   "execution_count": 20,
   "id": "d3721368",
   "metadata": {},
   "outputs": [],
   "source": [
    "def create_senet_model(input_shape, num_classes):\n",
    "    input_tensor = Input(shape=input_shape)\n",
    "    \n",
    "    # Example architecture, you may adjust it based on your requirements\n",
    "    x = Conv2D(64, (3, 3), padding='same', activation='relu')(input_tensor)\n",
    "    x = squeeze_excite_block(x)\n",
    "    x = Conv2D(128, (3, 3), padding='same', activation='relu')(x)\n",
    "    x = squeeze_excite_block(x)\n",
    "    \n",
    "    x = GlobalAveragePooling2D()(x)\n",
    "    x = Dense(num_classes, activation='softmax')(x)\n",
    "    \n",
    "    model = tf.keras.Model(inputs=input_tensor, outputs=x)\n",
    "    \n",
    "    return model"
   ]
  },
  {
   "cell_type": "code",
   "execution_count": 21,
   "id": "c648908d",
   "metadata": {},
   "outputs": [
    {
     "name": "stdout",
     "output_type": "stream",
     "text": [
      "Model: \"model\"\n",
      "__________________________________________________________________________________________________\n",
      "Layer (type)                    Output Shape         Param #     Connected to                     \n",
      "==================================================================================================\n",
      "input_1 (InputLayer)            [(None, 224, 224, 12 0                                            \n",
      "__________________________________________________________________________________________________\n",
      "conv2d_24 (Conv2D)              (None, 224, 224, 64) 6976        input_1[0][0]                    \n",
      "__________________________________________________________________________________________________\n",
      "global_average_pooling2d (Globa (None, 64)           0           conv2d_24[0][0]                  \n",
      "__________________________________________________________________________________________________\n",
      "dense (Dense)                   (None, 4)            260         global_average_pooling2d[0][0]   \n",
      "__________________________________________________________________________________________________\n",
      "dense_1 (Dense)                 (None, 64)           320         dense[0][0]                      \n",
      "__________________________________________________________________________________________________\n",
      "reshape (Reshape)               (None, 1, 1, 64)     0           dense_1[0][0]                    \n",
      "__________________________________________________________________________________________________\n",
      "multiply (Multiply)             (None, 224, 224, 64) 0           conv2d_24[0][0]                  \n",
      "                                                                 reshape[0][0]                    \n",
      "__________________________________________________________________________________________________\n",
      "conv2d_25 (Conv2D)              (None, 224, 224, 128 73856       multiply[0][0]                   \n",
      "__________________________________________________________________________________________________\n",
      "global_average_pooling2d_1 (Glo (None, 128)          0           conv2d_25[0][0]                  \n",
      "__________________________________________________________________________________________________\n",
      "dense_2 (Dense)                 (None, 8)            1032        global_average_pooling2d_1[0][0] \n",
      "__________________________________________________________________________________________________\n",
      "dense_3 (Dense)                 (None, 128)          1152        dense_2[0][0]                    \n",
      "__________________________________________________________________________________________________\n",
      "reshape_1 (Reshape)             (None, 1, 1, 128)    0           dense_3[0][0]                    \n",
      "__________________________________________________________________________________________________\n",
      "multiply_1 (Multiply)           (None, 224, 224, 128 0           conv2d_25[0][0]                  \n",
      "                                                                 reshape_1[0][0]                  \n",
      "__________________________________________________________________________________________________\n",
      "global_average_pooling2d_2 (Glo (None, 128)          0           multiply_1[0][0]                 \n",
      "__________________________________________________________________________________________________\n",
      "dense_4 (Dense)                 (None, 10)           1290        global_average_pooling2d_2[0][0] \n",
      "==================================================================================================\n",
      "Total params: 84,886\n",
      "Trainable params: 84,886\n",
      "Non-trainable params: 0\n",
      "__________________________________________________________________________________________________\n"
     ]
    }
   ],
   "source": [
    "# Example usage\n",
    "input_shape = (224, 224, 12)  # Adjust based on your input image size and channels\n",
    "num_classes = 10  # Adjust based on your classification task\n",
    "senet_model = create_senet_model(input_shape, num_classes)\n",
    "\n",
    "# Display model summary\n",
    "senet_model.summary()"
   ]
  },
  {
   "cell_type": "markdown",
   "id": "c96c41d6",
   "metadata": {},
   "source": [
    "# ECA "
   ]
  },
  {
   "cell_type": "code",
   "execution_count": 5,
   "id": "b80673f0",
   "metadata": {},
   "outputs": [],
   "source": [
    "import tensorflow as tf\n",
    "from tensorflow.keras.layers import Input, Conv2D, Reshape, Multiply, Conv1D, Dense"
   ]
  },
  {
   "cell_type": "code",
   "execution_count": 6,
   "id": "5c4ed8f7",
   "metadata": {},
   "outputs": [],
   "source": [
    "def eca_block(input_tensor, ratio=4):\n",
    "    channels = input_tensor.shape[-1]\n",
    "\n",
    "    # Squeeze operation\n",
    "    squeeze = tf.reduce_mean(input_tensor, axis=[1, 2], keepdims=True)\n",
    "    squeeze = Reshape((1, channels))(squeeze)\n",
    "\n",
    "    # Excitation operation\n",
    "    excitation = Conv1D(channels // ratio, kernel_size=3, padding='same', activation='relu')(squeeze)\n",
    "    excitation = Conv1D(channels, kernel_size=3, padding='same', activation='sigmoid')(excitation)\n",
    "    excitation = Reshape((1, 1, channels))(excitation)\n",
    "\n",
    "    # Scale the input with the excitation weights\n",
    "    scaled_input = Multiply()([input_tensor, excitation])\n",
    "\n",
    "    return scaled_input"
   ]
  },
  {
   "cell_type": "code",
   "execution_count": 7,
   "id": "0ef8076b",
   "metadata": {},
   "outputs": [],
   "source": [
    "def create_ECANet_model(input_shape, num_classes):\n",
    "    input_tensor = Input(shape=input_shape)\n",
    "    \n",
    "    # Example architecture with ECA blocks\n",
    "    x = Conv2D(64, (3, 3), padding='same', activation='relu')(input_tensor)\n",
    "    x = eca_block(x)\n",
    "    x = Conv2D(128, (3, 3), padding='same', activation='relu')(x)\n",
    "    x = eca_block(x)\n",
    "    \n",
    "    x = Dense(num_classes, activation='softmax')(x)\n",
    "    \n",
    "    model = tf.keras.Model(inputs=input_tensor, outputs=x)\n",
    "    \n",
    "    return model"
   ]
  },
  {
   "cell_type": "code",
   "execution_count": 8,
   "id": "229abbdb",
   "metadata": {},
   "outputs": [
    {
     "name": "stdout",
     "output_type": "stream",
     "text": [
      "Model: \"model_1\"\n",
      "__________________________________________________________________________________________________\n",
      "Layer (type)                    Output Shape         Param #     Connected to                     \n",
      "==================================================================================================\n",
      "input_2 (InputLayer)            [(None, 224, 224, 12 0                                            \n",
      "__________________________________________________________________________________________________\n",
      "conv2d_2 (Conv2D)               (None, 224, 224, 64) 6976        input_2[0][0]                    \n",
      "__________________________________________________________________________________________________\n",
      "tf.math.reduce_mean (TFOpLambda (None, 1, 1, 64)     0           conv2d_2[0][0]                   \n",
      "__________________________________________________________________________________________________\n",
      "reshape_2 (Reshape)             (None, 1, 64)        0           tf.math.reduce_mean[0][0]        \n",
      "__________________________________________________________________________________________________\n",
      "conv1d (Conv1D)                 (None, 1, 16)        3088        reshape_2[0][0]                  \n",
      "__________________________________________________________________________________________________\n",
      "conv1d_1 (Conv1D)               (None, 1, 64)        3136        conv1d[0][0]                     \n",
      "__________________________________________________________________________________________________\n",
      "reshape_3 (Reshape)             (None, 1, 1, 64)     0           conv1d_1[0][0]                   \n",
      "__________________________________________________________________________________________________\n",
      "multiply_2 (Multiply)           (None, 224, 224, 64) 0           conv2d_2[0][0]                   \n",
      "                                                                 reshape_3[0][0]                  \n",
      "__________________________________________________________________________________________________\n",
      "conv2d_3 (Conv2D)               (None, 224, 224, 128 73856       multiply_2[0][0]                 \n",
      "__________________________________________________________________________________________________\n",
      "tf.math.reduce_mean_1 (TFOpLamb (None, 1, 1, 128)    0           conv2d_3[0][0]                   \n",
      "__________________________________________________________________________________________________\n",
      "reshape_4 (Reshape)             (None, 1, 128)       0           tf.math.reduce_mean_1[0][0]      \n",
      "__________________________________________________________________________________________________\n",
      "conv1d_2 (Conv1D)               (None, 1, 32)        12320       reshape_4[0][0]                  \n",
      "__________________________________________________________________________________________________\n",
      "conv1d_3 (Conv1D)               (None, 1, 128)       12416       conv1d_2[0][0]                   \n",
      "__________________________________________________________________________________________________\n",
      "reshape_5 (Reshape)             (None, 1, 1, 128)    0           conv1d_3[0][0]                   \n",
      "__________________________________________________________________________________________________\n",
      "multiply_3 (Multiply)           (None, 224, 224, 128 0           conv2d_3[0][0]                   \n",
      "                                                                 reshape_5[0][0]                  \n",
      "__________________________________________________________________________________________________\n",
      "dense_5 (Dense)                 (None, 224, 224, 10) 1290        multiply_3[0][0]                 \n",
      "==================================================================================================\n",
      "Total params: 113,082\n",
      "Trainable params: 113,082\n",
      "Non-trainable params: 0\n",
      "__________________________________________________________________________________________________\n"
     ]
    }
   ],
   "source": [
    "# Example usage\n",
    "input_shape = (224, 224, 12)  # Adjust based on your input image size and channels\n",
    "num_classes = 10  # Adjust based on your classification task\n",
    "senet_model = create_ECANet_model(input_shape, num_classes)\n",
    "\n",
    "# Display model summary\n",
    "senet_model.summary()"
   ]
  },
  {
   "cell_type": "code",
   "execution_count": null,
   "id": "7cdc5676",
   "metadata": {},
   "outputs": [],
   "source": []
  }
 ],
 "metadata": {
  "kernelspec": {
   "display_name": "tensorflow",
   "language": "python",
   "name": "tensorflow"
  },
  "language_info": {
   "codemirror_mode": {
    "name": "ipython",
    "version": 3
   },
   "file_extension": ".py",
   "mimetype": "text/x-python",
   "name": "python",
   "nbconvert_exporter": "python",
   "pygments_lexer": "ipython3",
   "version": "3.9.18"
  }
 },
 "nbformat": 4,
 "nbformat_minor": 5
}
