{
 "cells": [
  {
   "cell_type": "markdown",
   "id": "20550c6d",
   "metadata": {},
   "source": [
    "# Spatial Attention"
   ]
  },
  {
   "cell_type": "code",
   "execution_count": 1,
   "id": "3d596323",
   "metadata": {},
   "outputs": [],
   "source": [
    "import tensorflow as tf\n",
    "from tensorflow.keras.layers import Input, Conv2D, GlobalAveragePooling2D, Dense"
   ]
  },
  {
   "cell_type": "code",
   "execution_count": 2,
   "id": "31f108c3",
   "metadata": {},
   "outputs": [],
   "source": [
    "def spatial_attention(input_tensor):\n",
    "    \n",
    "    avg_pool = tf.reduce_mean(input_tensor, axis=3, keepdims=True) # Average pooling\n",
    "        \n",
    "    max_pool = tf.reduce_max(input_tensor, axis=3, keepdims=True) # Max pooling\n",
    "    \n",
    "    pooled_features = tf.keras.layers.Concatenate(axis=-1)([avg_pool, max_pool]) # Concatenate pooled feature maps\n",
    "\n",
    "    # Convolutional layer with 7x7 filter size\n",
    "    conv_output = tf.keras.layers.Conv2D(filters=1, kernel_size=(1, 1), padding='same')(pooled_features)\n",
    "    \n",
    "    sigmoid_output = tf.keras.activations.sigmoid(conv_output) # Sigmoid activation\n",
    "    \n",
    "    return sigmoid_output * input_tensor"
   ]
  },
  {
   "cell_type": "code",
   "execution_count": 3,
   "id": "a2837420",
   "metadata": {},
   "outputs": [],
   "source": [
    "def create_spatial_attention_model(input_shape, num_classes):\n",
    "    input_tensor = Input(shape=input_shape)\n",
    "    \n",
    "    # Example architecture, you may adjust it based on your requirements\n",
    "    x = tf.keras.layers.Conv2D(64, (3, 3), padding='same', activation='relu')(input_tensor)\n",
    "    x = spatial_attention(x)\n",
    "    x = Conv2D(128, (3, 3), padding='same', activation='relu')(x)\n",
    "    x = spatial_attention(x)\n",
    "    \n",
    "    x = GlobalAveragePooling2D()(x)\n",
    "    x = Dense(num_classes, activation='softmax')(x)\n",
    "    \n",
    "    model = tf.keras.Model(inputs=input_tensor, outputs=x)\n",
    "    \n",
    "    return model"
   ]
  },
  {
   "cell_type": "code",
   "execution_count": 4,
   "id": "f8853268",
   "metadata": {},
   "outputs": [
    {
     "name": "stdout",
     "output_type": "stream",
     "text": [
      "Model: \"model\"\n",
      "__________________________________________________________________________________________________\n",
      "Layer (type)                    Output Shape         Param #     Connected to                     \n",
      "==================================================================================================\n",
      "input_1 (InputLayer)            [(None, 224, 224, 12 0                                            \n",
      "__________________________________________________________________________________________________\n",
      "conv2d (Conv2D)                 (None, 224, 224, 64) 6976        input_1[0][0]                    \n",
      "__________________________________________________________________________________________________\n",
      "tf.math.reduce_mean (TFOpLambda (None, 224, 224, 1)  0           conv2d[0][0]                     \n",
      "__________________________________________________________________________________________________\n",
      "tf.math.reduce_max (TFOpLambda) (None, 224, 224, 1)  0           conv2d[0][0]                     \n",
      "__________________________________________________________________________________________________\n",
      "concatenate (Concatenate)       (None, 224, 224, 2)  0           tf.math.reduce_mean[0][0]        \n",
      "                                                                 tf.math.reduce_max[0][0]         \n",
      "__________________________________________________________________________________________________\n",
      "conv2d_1 (Conv2D)               (None, 224, 224, 1)  3           concatenate[0][0]                \n",
      "__________________________________________________________________________________________________\n",
      "tf.math.sigmoid (TFOpLambda)    (None, 224, 224, 1)  0           conv2d_1[0][0]                   \n",
      "__________________________________________________________________________________________________\n",
      "tf.math.multiply (TFOpLambda)   (None, 224, 224, 64) 0           tf.math.sigmoid[0][0]            \n",
      "                                                                 conv2d[0][0]                     \n",
      "__________________________________________________________________________________________________\n",
      "conv2d_2 (Conv2D)               (None, 224, 224, 128 73856       tf.math.multiply[0][0]           \n",
      "__________________________________________________________________________________________________\n",
      "tf.math.reduce_mean_1 (TFOpLamb (None, 224, 224, 1)  0           conv2d_2[0][0]                   \n",
      "__________________________________________________________________________________________________\n",
      "tf.math.reduce_max_1 (TFOpLambd (None, 224, 224, 1)  0           conv2d_2[0][0]                   \n",
      "__________________________________________________________________________________________________\n",
      "concatenate_1 (Concatenate)     (None, 224, 224, 2)  0           tf.math.reduce_mean_1[0][0]      \n",
      "                                                                 tf.math.reduce_max_1[0][0]       \n",
      "__________________________________________________________________________________________________\n",
      "conv2d_3 (Conv2D)               (None, 224, 224, 1)  3           concatenate_1[0][0]              \n",
      "__________________________________________________________________________________________________\n",
      "tf.math.sigmoid_1 (TFOpLambda)  (None, 224, 224, 1)  0           conv2d_3[0][0]                   \n",
      "__________________________________________________________________________________________________\n",
      "tf.math.multiply_1 (TFOpLambda) (None, 224, 224, 128 0           tf.math.sigmoid_1[0][0]          \n",
      "                                                                 conv2d_2[0][0]                   \n",
      "__________________________________________________________________________________________________\n",
      "global_average_pooling2d (Globa (None, 128)          0           tf.math.multiply_1[0][0]         \n",
      "__________________________________________________________________________________________________\n",
      "dense (Dense)                   (None, 10)           1290        global_average_pooling2d[0][0]   \n",
      "==================================================================================================\n",
      "Total params: 82,128\n",
      "Trainable params: 82,128\n",
      "Non-trainable params: 0\n",
      "__________________________________________________________________________________________________\n"
     ]
    }
   ],
   "source": [
    "# Example usage\n",
    "input_shape = (224, 224, 12)  # Adjust based on your input image size and channels\n",
    "num_classes = 10  # Adjust based on your classification task\n",
    "SA_model = create_spatial_attention_model(input_shape, num_classes)\n",
    "\n",
    "# Display model summary\n",
    "SA_model.summary()"
   ]
  },
  {
   "cell_type": "code",
   "execution_count": null,
   "id": "166bd40a",
   "metadata": {},
   "outputs": [],
   "source": []
  }
 ],
 "metadata": {
  "kernelspec": {
   "display_name": "tensorflow",
   "language": "python",
   "name": "tensorflow"
  },
  "language_info": {
   "codemirror_mode": {
    "name": "ipython",
    "version": 3
   },
   "file_extension": ".py",
   "mimetype": "text/x-python",
   "name": "python",
   "nbconvert_exporter": "python",
   "pygments_lexer": "ipython3",
   "version": "3.9.18"
  }
 },
 "nbformat": 4,
 "nbformat_minor": 5
}
