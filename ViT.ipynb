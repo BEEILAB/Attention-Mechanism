{
  "nbformat": 4,
  "nbformat_minor": 0,
  "metadata": {
    "colab": {
      "provenance": [],
      "gpuType": "T4"
    },
    "kernelspec": {
      "name": "python3",
      "display_name": "Python 3"
    },
    "language_info": {
      "name": "python"
    },
    "accelerator": "GPU"
  },
  "cells": [
    {
      "cell_type": "markdown",
      "source": [
        "# **Preprocessing**"
      ],
      "metadata": {
        "id": "zeUyZTp2RlCm"
      }
    },
    {
      "cell_type": "code",
      "execution_count": null,
      "metadata": {
        "id": "CnqxooYPRfB1"
      },
      "outputs": [],
      "source": [
        "from osgeo import gdal\n",
        "import numpy as np\n",
        "import os"
      ]
    },
    {
      "cell_type": "code",
      "source": [
        "from google.colab import drive  # Importing Google Colab's drive module for mounting Google Drive\n",
        "drive.mount('/content/drive')  # Mounting the Google Drive to the '/content/drive' directory"
      ],
      "metadata": {
        "colab": {
          "base_uri": "https://localhost:8080/"
        },
        "id": "ph39r7_URsl9",
        "outputId": "68312fcb-2aed-447c-fbc8-c0d832c1a952"
      },
      "execution_count": null,
      "outputs": [
        {
          "output_type": "stream",
          "name": "stdout",
          "text": [
            "Mounted at /content/drive\n"
          ]
        }
      ]
    },
    {
      "cell_type": "code",
      "source": [
        "# Specify the path to the main folder containing class folders in Google Drive\n",
        "folders_path = '/content/drive/MyDrive/Data/'\n",
        "\n",
        "# List the class folders within the main folder\n",
        "classes = os.listdir(folders_path)\n",
        "\n",
        "# Create an empty dictionary to store class names and their corresponding numerical labels\n",
        "dict_class = {}\n",
        "\n",
        "# Iterate through the classes and assign a numerical label to each class\n",
        "for i in range(len(classes)):\n",
        "    # The numerical label is assigned as i+1 to start from 1\n",
        "    dict_class.update({classes[i]: i + 1})\n",
        "\n",
        "# Display the resulting dictionary\n",
        "dict_class"
      ],
      "metadata": {
        "colab": {
          "base_uri": "https://localhost:8080/"
        },
        "id": "12M26oIURtaw",
        "outputId": "cc5c76d2-d6f6-4683-90fd-136caf46de95"
      },
      "execution_count": null,
      "outputs": [
        {
          "output_type": "execute_result",
          "data": {
            "text/plain": [
              "{'PermanentCrop': 1,\n",
              " 'River': 2,\n",
              " 'Highway': 3,\n",
              " 'Residential': 4,\n",
              " 'SeaLake': 5,\n",
              " 'Pasture': 6,\n",
              " 'HerbaceousVegetation': 7,\n",
              " 'AnnualCrop': 8,\n",
              " 'Industrial': 9,\n",
              " 'Forest': 10}"
            ]
          },
          "metadata": {},
          "execution_count": 3
        }
      ]
    },
    {
      "cell_type": "code",
      "source": [
        "# Define the total number of classes in your dataset\n",
        "num_classes = 13\n",
        "\n",
        "# Specify the number of patches\n",
        "patch_numbers = 1000\n",
        "\n",
        "# Define the size of each image patch (assuming it's a square)\n",
        "patch_size = 64\n",
        "\n",
        "# Specify the number of spectral bands in your satellite imagery\n",
        "bands = 13\n",
        "\n",
        "# Create empty arrays to store your input images (X) and corresponding labels (Y)\n",
        "X = np.zeros((patch_numbers, patch_size, patch_size, bands), dtype='float32')\n",
        "Y = np.zeros((patch_numbers, num_classes), dtype='float32')"
      ],
      "metadata": {
        "id": "nHPkC-CGRtds"
      },
      "execution_count": null,
      "outputs": []
    },
    {
      "cell_type": "code",
      "source": [
        "# Initialize a counter to keep track of the total number of patches processed\n",
        "Counter = 0\n",
        "# Iterate through each class in your dataset\n",
        "for cls in classes:\n",
        "    # Get a list of images in the current class folder\n",
        "    image_list = os.listdir(folders_path + cls)\n",
        "\n",
        "    # Iterate through each image in the current class\n",
        "    for img in image_list:\n",
        "        # Read the image using GDAL (assuming it's a raster image)\n",
        "        image = gdal.Open(folders_path + cls + '/' + img).ReadAsArray()\n",
        "\n",
        "        # Create an empty array to store the reshaped image with the desired patch size and bands\n",
        "        new_image = np.zeros((patch_size, patch_size, bands), dtype='float32')\n",
        "\n",
        "        # Iterate through each band in the original image\n",
        "        for b in range(bands):\n",
        "            # Copy the band to the corresponding slice in the new image\n",
        "            new_image[:, :, b] = image[b, :, :]\n",
        "\n",
        "        # Store the reshaped image in the X array\n",
        "        X[Counter, :, :, :] = new_image\n",
        "\n",
        "        # Determine the column (class label) for the current image and update the Y array\n",
        "        column = dict_class[cls]\n",
        "        Y[Counter, column - 1] = 1\n",
        "\n",
        "        # Increment the counter\n",
        "        Counter = Counter + 1"
      ],
      "metadata": {
        "id": "PjIs3CRwRtgs"
      },
      "execution_count": null,
      "outputs": []
    },
    {
      "cell_type": "code",
      "source": [
        "print('X shape: ', X.shape)\n",
        "print('Y shape: ', Y.shape)"
      ],
      "metadata": {
        "colab": {
          "base_uri": "https://localhost:8080/"
        },
        "id": "h5td7z7NRtji",
        "outputId": "67d9777b-ad49-4952-bce4-91dbbbcfe2b7"
      },
      "execution_count": null,
      "outputs": [
        {
          "output_type": "stream",
          "name": "stdout",
          "text": [
            "X shape:  (1000, 64, 64, 13)\n",
            "Y shape:  (1000, 13)\n"
          ]
        }
      ]
    },
    {
      "cell_type": "code",
      "source": [
        "# Create an array of indices ranging from 0 to the total number of patches\n",
        "indexes = np.arange(X.shape[0])\n",
        "\n",
        "# Shuffle the indices randomly to ensure randomness in train/validation split\n",
        "np.random.shuffle(indexes)\n",
        "\n",
        "# Determine the index for the split between training and validation sets (90%/10%)\n",
        "train_index = indexes[: int(0.9 * X.shape[0])]\n",
        "val_index = indexes[int(0.9 * X.shape[0]):]\n",
        "\n",
        "# Use the indices to extract the corresponding patches for training and validation\n",
        "x_train = X[train_index]\n",
        "x_val = X[val_index]\n",
        "y_train = Y[train_index]\n",
        "y_val = Y[val_index]\n",
        "\n",
        "# Print the shapes of the training and validation sets for verification\n",
        "print('X Train shape: ', x_train.shape)\n",
        "print('Y Train shape: ', y_train.shape)\n",
        "print('X Validation shape: ', x_val.shape)\n",
        "print('Y Validation shape: ', y_val.shape)"
      ],
      "metadata": {
        "colab": {
          "base_uri": "https://localhost:8080/"
        },
        "id": "wibKaj4PSZZX",
        "outputId": "18de40ee-860a-4aea-ecb1-c57b380bc7da"
      },
      "execution_count": null,
      "outputs": [
        {
          "output_type": "stream",
          "name": "stdout",
          "text": [
            "X Train shape:  (900, 64, 64, 13)\n",
            "Y Train shape:  (900, 10)\n",
            "X Validation shape:  (100, 64, 64, 13)\n",
            "Y Validation shape:  (100, 10)\n"
          ]
        }
      ]
    },
    {
      "cell_type": "markdown",
      "source": [
        "# **ViT Architecture**"
      ],
      "metadata": {
        "id": "hzhzTilvfIY6"
      }
    },
    {
      "cell_type": "code",
      "source": [
        "from tensorflow import keras\n",
        "import tensorflow as tf\n",
        "from tensorflow.keras import layers\n",
        "import matplotlib.pyplot as plt"
      ],
      "metadata": {
        "id": "Iy4mokXBfHlc"
      },
      "execution_count": null,
      "outputs": []
    },
    {
      "cell_type": "code",
      "source": [
        "data_augmentation = keras.Sequential(\n",
        "    [\n",
        "        layers.experimental.preprocessing.Normalization(),  # Normalizing input data\n",
        "        layers.experimental.preprocessing.RandomFlip(\"horizontal\"),  # Randomly flipping input horizontally\n",
        "        layers.experimental.preprocessing.RandomRotation(factor=0.02),  # Randomly rotating input by a small factor\n",
        "        layers.experimental.preprocessing.RandomContrast(0.04),  # Randomly adjusting contrast of input\n",
        "        layers.experimental.preprocessing.RandomZoom(\n",
        "            height_factor=0.2, width_factor=0.2\n",
        "        ),  # Randomly zooming into or out of input\n",
        "    ],\n",
        "    name=\"data_augmentation\",\n",
        ")\n",
        "\n",
        "data_augmentation.layers[0].adapt(x_train)  # Adapting the normalization layer to the training data"
      ],
      "metadata": {
        "id": "4VduGlJKQiOQ"
      },
      "execution_count": null,
      "outputs": []
    },
    {
      "cell_type": "code",
      "source": [
        "patch_size_in_vit = 8  # Size of patches for Vision Transformer (ViT)\n",
        "image_size = 64  # Size of input images\n",
        "\n",
        "def extract_patch(images):\n",
        "    \"\"\"\n",
        "    Extracts patches from input images using TensorFlow's extract_patches function.\n",
        "\n",
        "    Args:\n",
        "        images: Input images with shape [batch_size, height, width, channels].\n",
        "\n",
        "    Returns:\n",
        "        patches: Extracted patches from input images with shape [batch_size, num_patches, patch_dims].\n",
        "    \"\"\"\n",
        "    batch_size = tf.shape(images)[0]  # Getting batch size\n",
        "    patches = tf.image.extract_patches(\n",
        "        images=images,\n",
        "        sizes=[1, patch_size_in_vit, patch_size_in_vit, 1],  # Patch size\n",
        "        strides=[1, patch_size_in_vit, patch_size_in_vit, 1],  # Stride for patch extraction\n",
        "        rates=[1, 1, 1, 1],\n",
        "        padding=\"VALID\",  # Padding mode\n",
        "    )\n",
        "    patch_dims = patches.shape[-1]  # Calculating patch dimensions\n",
        "    patches = tf.reshape(patches, [batch_size, -1, patch_dims])  # Reshaping patches\n",
        "    return patches"
      ],
      "metadata": {
        "id": "c6n2IQ7aj74f"
      },
      "execution_count": null,
      "outputs": []
    },
    {
      "cell_type": "code",
      "source": [
        "index = 0  # Index of the image in the training dataset\n",
        "number_of_bands = 1  # Number of bands used in the image data\n",
        "\n",
        "# Selecting a sample data from the training dataset with specified number of bands\n",
        "sample_data = x_train[index:index+1, :, :, number_of_bands:number_of_bands+1]\n",
        "\n",
        "# Extracting patches from the sample data\n",
        "patches = extract_patch(sample_data)\n",
        "\n",
        "# Printing information about image size, patch size, and patches per image\n",
        "print(f\"Image size: {image_size} X {image_size}\")\n",
        "print(f\"Patch size: {patch_size_in_vit} X {patch_size_in_vit}\")\n",
        "print(f\"Patches per image: {patches.shape[1]}\")\n",
        "print(f\"Elements per patch: {patches.shape[-1]}\")"
      ],
      "metadata": {
        "colab": {
          "base_uri": "https://localhost:8080/"
        },
        "id": "ov25BUOmnex6",
        "outputId": "10015b18-2380-4530-f31e-ef5665e2b29e"
      },
      "execution_count": null,
      "outputs": [
        {
          "output_type": "stream",
          "name": "stdout",
          "text": [
            "Image size: 64 X 64\n",
            "Patch size: 8 X 8\n",
            "Patches per image: 64\n",
            "Elements per patch: 64\n"
          ]
        }
      ]
    },
    {
      "cell_type": "code",
      "source": [
        "# Visualizing the extracted patches\n",
        "n = int(np.sqrt(patches.shape[1]))  # Number of patches to display in each dimension\n",
        "plt.figure(figsize=(4, 4))\n",
        "for i, patch in enumerate(patches[0]):\n",
        "    ax = plt.subplot(n, n, i + 1)\n",
        "    patch_img = tf.reshape(patch, (patch_size_in_vit, patch_size_in_vit))\n",
        "    plt.imshow(patch_img.numpy())  # Displaying the patch image\n",
        "    plt.axis(\"off\")  # Turning off axis"
      ],
      "metadata": {
        "colab": {
          "base_uri": "https://localhost:8080/",
          "height": 345
        },
        "id": "3uT0s8mOoEWI",
        "outputId": "05c202a9-d80b-48a5-9531-e5fb0c51268f"
      },
      "execution_count": null,
      "outputs": [
        {
          "output_type": "display_data",
          "data": {
            "text/plain": [
              "<Figure size 400x400 with 64 Axes>"
            ],
            "image/png": "[encoded data removed]"
          },
          "metadata": {}
        }
      ]
    },
    {
      "cell_type": "code",
      "source": [
        "image_size = 64  # Size of the input image\n",
        "patch_size = 8  # Size of each patch\n",
        "num_patches = (image_size // patch_size) ** 2  # Number of patches in the image\n",
        "projection_dim = 128  # Dimensionality of the projected embeddings\n",
        "\n",
        "def patch_encoder(patch, num_patches, projection_dim):\n",
        "    \"\"\"\n",
        "    Encodes each patch using an embedding layer followed by a dense layer.\n",
        "\n",
        "    Args:\n",
        "        patch: Input patch data with shape [batch_size, patch_size, patch_size, channels].\n",
        "        num_patches: Number of patches in the image.\n",
        "        projection_dim: Dimensionality of the projected embeddings.\n",
        "\n",
        "    Returns:\n",
        "        encoded: Encoded representation of the patch with shape [batch_size, num_patches, projection_dim].\n",
        "    \"\"\"\n",
        "    positions = tf.range(start=0, limit=num_patches, delta=1)  # Generating positional embeddings\n",
        "\n",
        "    # Embedding layer for positional embeddings\n",
        "    emd = layers.Embedding(input_dim=num_patches, output_dim=projection_dim)(positions)\n",
        "\n",
        "    # Dense layer for encoding the patch\n",
        "    dens = layers.Dense(units=projection_dim)(patch)\n",
        "\n",
        "    # Adding positional embeddings and patch encoding\n",
        "    encoded = emd + dens\n",
        "\n",
        "    return encoded\n"
      ],
      "metadata": {
        "id": "OOxzveLmzey3"
      },
      "execution_count": null,
      "outputs": []
    },
    {
      "cell_type": "code",
      "source": [
        "transformer_units = [\n",
        "  projection_dim * 2,\n",
        "  projection_dim,\n",
        "]  # Size of the transformer layers\n",
        "\n",
        "def mlp(x, hidden_units, dropout=0.2):\n",
        "    \"\"\"\n",
        "    Defines a Multi-Layer Perceptron (MLP) block.\n",
        "\n",
        "    Args:\n",
        "        x: Input tensor.\n",
        "        hidden_units: List of integers specifying the number of units in each hidden layer.\n",
        "        dropout: Dropout rate for the dropout layers.\n",
        "\n",
        "    Returns:\n",
        "        x: Output tensor after passing through the MLP block.\n",
        "    \"\"\"\n",
        "    for units in hidden_units:\n",
        "        x = layers.Dense(units, activation=tf.nn.gelu)(x)  # Fully connected layer with GELU activation\n",
        "        x = layers.Dropout(dropout)(x)  # Dropout layer\n",
        "    return x"
      ],
      "metadata": {
        "id": "CkQWXF_8DH5j"
      },
      "execution_count": null,
      "outputs": []
    },
    {
      "cell_type": "code",
      "source": [
        "number_of_heads=8\n",
        "transformer_layers=8\n",
        "\n",
        "def vit_model(input_shape):\n",
        "  inputs=layers.Input(shape=input_shape)\n",
        "\n",
        "  #Data Augmentation\n",
        "  augmented_data=data_augmentation(inputs)\n",
        "\n",
        "  # Extract patches from input image\n",
        "  patches=extract_patch(augmented_data)\n",
        "\n",
        "  #Patch Encoder\n",
        "  Encoded_patches=patch_encoder(patches, num_patches, projection_dim)\n",
        "\n",
        "  # print(Encoded_patches.shape)\n",
        "\n",
        "  # Create a multiple transformer layer.\n",
        "  for _ in range(transformer_layers):\n",
        "\n",
        "    x1=layers.LayerNormalization(epsilon=1e-6)(Encoded_patches)\n",
        "    # print(x1.shape)\n",
        "\n",
        "    # Create a multi-head attention layer.\n",
        "    attention_output=layers.MultiHeadAttention(\n",
        "        num_heads=number_of_heads,\n",
        "        key_dim=projection_dim,\n",
        "        dropout=0.2\n",
        "    )(x1,x1)\n",
        "    # print(attention_output)\n",
        "\n",
        "    # Create skip connection\n",
        "    x2=layers.Add()([attention_output,Encoded_patches])\n",
        "    # print(x2.shape)\n",
        "\n",
        "    # Normalization layer\n",
        "    x3=layers.LayerNormalization(epsilon=1e-6)(x2)\n",
        "    # print(x3.shape)\n",
        "\n",
        "    # MLP section\n",
        "    x3=mlp(x3,hidden_units=transformer_units,dropout=0.1)\n",
        "\n",
        "    # Skip connection\n",
        "    Encoded_patches=layers.Add()([x3,x2])\n",
        "    # print(Encoded_patches)\n",
        "\n",
        "  # Create a [batch_size, projection_dim] tensor.\n",
        "  representation = layers.LayerNormalization(epsilon=1e-6)(Encoded_patches)  # Layer normalization\n",
        "  representation = layers.Flatten()(representation)  # Flatten the tensor\n",
        "  representation = layers.Dropout(0.5)(representation)  # Dropout layer\n",
        "\n",
        "  # Add MLP.\n",
        "  features = mlp(representation, hidden_units=[2048, 1024], dropout=0.5)  # Apply MLP to the representation\n",
        "\n",
        "  # Classify outputs.\n",
        "  logits = layers.Dense(10, activation='softmax')(features)  # Dense layer with softmax activation for classification\n",
        "\n",
        "  # Create the Keras model.\n",
        "  model = keras.Model(inputs=inputs, outputs=logits)  # Define the model with input and output layers\n",
        "\n",
        "  return model\n"
      ],
      "metadata": {
        "id": "8VjaMOTUMkH3"
      },
      "execution_count": null,
      "outputs": []
    },
    {
      "cell_type": "code",
      "source": [
        "# Create an instance of the ViT model with input shape (64, 64, 13)\n",
        "model = vit_model((64, 64, 13))\n",
        "\n",
        "# Print the summary of the model architecture\n",
        "model.summary()"
      ],
      "metadata": {
        "colab": {
          "base_uri": "https://localhost:8080/"
        },
        "id": "PJVnf4zzxZdC",
        "outputId": "b7270f02-815a-45a4-be24-de410f2fdf76"
      },
      "execution_count": null,
      "outputs": [
        {
          "output_type": "stream",
          "name": "stdout",
          "text": [
            "Model: \"model_1\"\n",
            "__________________________________________________________________________________________________\n",
            " Layer (type)                Output Shape                 Param #   Connected to                  \n",
            "==================================================================================================\n",
            " input_2 (InputLayer)        [(None, 64, 64, 13)]         0         []                            \n",
            "                                                                                                  \n",
            " data_augmentation (Sequent  (None, 64, 64, 13)           27        ['input_2[0][0]']             \n",
            " ial)                                                                                             \n",
            "                                                                                                  \n",
            " tf.compat.v1.shape_1 (TFOp  (4,)                         0         ['data_augmentation[1][0]']   \n",
            " Lambda)                                                                                          \n",
            "                                                                                                  \n",
            " tf.image.extract_patches_1  (None, 8, 8, 832)            0         ['data_augmentation[1][0]']   \n",
            "  (TFOpLambda)                                                                                    \n",
            "                                                                                                  \n",
            " tf.__operators__.getitem_1  ()                           0         ['tf.compat.v1.shape_1[0][0]']\n",
            "  (SlicingOpLambda)                                                                               \n",
            "                                                                                                  \n",
            " tf.reshape_1 (TFOpLambda)   (None, None, 832)            0         ['tf.image.extract_patches_1[0\n",
            "                                                                    ][0]',                        \n",
            "                                                                     'tf.__operators__.getitem_1[0\n",
            "                                                                    ][0]']                        \n",
            "                                                                                                  \n",
            " dense_20 (Dense)            (None, None, 128)            106624    ['tf.reshape_1[0][0]']        \n",
            "                                                                                                  \n",
            " tf.__operators__.add_1 (TF  (None, 64, 128)              0         ['dense_20[0][0]']            \n",
            " OpLambda)                                                                                        \n",
            "                                                                                                  \n",
            " layer_normalization_17 (La  (None, 64, 128)              256       ['tf.__operators__.add_1[0][0]\n",
            " yerNormalization)                                                  ']                            \n",
            "                                                                                                  \n",
            " multi_head_attention_8 (Mu  (None, 64, 128)              527488    ['layer_normalization_17[0][0]\n",
            " ltiHeadAttention)                                                  ',                            \n",
            "                                                                     'layer_normalization_17[0][0]\n",
            "                                                                    ']                            \n",
            "                                                                                                  \n",
            " add_16 (Add)                (None, 64, 128)              0         ['multi_head_attention_8[0][0]\n",
            "                                                                    ',                            \n",
            "                                                                     'tf.__operators__.add_1[0][0]\n",
            "                                                                    ']                            \n",
            "                                                                                                  \n",
            " layer_normalization_18 (La  (None, 64, 128)              256       ['add_16[0][0]']              \n",
            " yerNormalization)                                                                                \n",
            "                                                                                                  \n",
            " dense_21 (Dense)            (None, 64, 256)              33024     ['layer_normalization_18[0][0]\n",
            "                                                                    ']                            \n",
            "                                                                                                  \n",
            " dropout_19 (Dropout)        (None, 64, 256)              0         ['dense_21[0][0]']            \n",
            "                                                                                                  \n",
            " dense_22 (Dense)            (None, 64, 128)              32896     ['dropout_19[0][0]']          \n",
            "                                                                                                  \n",
            " dropout_20 (Dropout)        (None, 64, 128)              0         ['dense_22[0][0]']            \n",
            "                                                                                                  \n",
            " add_17 (Add)                (None, 64, 128)              0         ['dropout_20[0][0]',          \n",
            "                                                                     'add_16[0][0]']              \n",
            "                                                                                                  \n",
            " layer_normalization_19 (La  (None, 64, 128)              256       ['add_17[0][0]']              \n",
            " yerNormalization)                                                                                \n",
            "                                                                                                  \n",
            " multi_head_attention_9 (Mu  (None, 64, 128)              527488    ['layer_normalization_19[0][0]\n",
            " ltiHeadAttention)                                                  ',                            \n",
            "                                                                     'layer_normalization_19[0][0]\n",
            "                                                                    ']                            \n",
            "                                                                                                  \n",
            " add_18 (Add)                (None, 64, 128)              0         ['multi_head_attention_9[0][0]\n",
            "                                                                    ',                            \n",
            "                                                                     'add_17[0][0]']              \n",
            "                                                                                                  \n",
            " layer_normalization_20 (La  (None, 64, 128)              256       ['add_18[0][0]']              \n",
            " yerNormalization)                                                                                \n",
            "                                                                                                  \n",
            " dense_23 (Dense)            (None, 64, 256)              33024     ['layer_normalization_20[0][0]\n",
            "                                                                    ']                            \n",
            "                                                                                                  \n",
            " dropout_21 (Dropout)        (None, 64, 256)              0         ['dense_23[0][0]']            \n",
            "                                                                                                  \n",
            " dense_24 (Dense)            (None, 64, 128)              32896     ['dropout_21[0][0]']          \n",
            "                                                                                                  \n",
            " dropout_22 (Dropout)        (None, 64, 128)              0         ['dense_24[0][0]']            \n",
            "                                                                                                  \n",
            " add_19 (Add)                (None, 64, 128)              0         ['dropout_22[0][0]',          \n",
            "                                                                     'add_18[0][0]']              \n",
            "                                                                                                  \n",
            " layer_normalization_21 (La  (None, 64, 128)              256       ['add_19[0][0]']              \n",
            " yerNormalization)                                                                                \n",
            "                                                                                                  \n",
            " multi_head_attention_10 (M  (None, 64, 128)              527488    ['layer_normalization_21[0][0]\n",
            " ultiHeadAttention)                                                 ',                            \n",
            "                                                                     'layer_normalization_21[0][0]\n",
            "                                                                    ']                            \n",
            "                                                                                                  \n",
            " add_20 (Add)                (None, 64, 128)              0         ['multi_head_attention_10[0][0\n",
            "                                                                    ]',                           \n",
            "                                                                     'add_19[0][0]']              \n",
            "                                                                                                  \n",
            " layer_normalization_22 (La  (None, 64, 128)              256       ['add_20[0][0]']              \n",
            " yerNormalization)                                                                                \n",
            "                                                                                                  \n",
            " dense_25 (Dense)            (None, 64, 256)              33024     ['layer_normalization_22[0][0]\n",
            "                                                                    ']                            \n",
            "                                                                                                  \n",
            " dropout_23 (Dropout)        (None, 64, 256)              0         ['dense_25[0][0]']            \n",
            "                                                                                                  \n",
            " dense_26 (Dense)            (None, 64, 128)              32896     ['dropout_23[0][0]']          \n",
            "                                                                                                  \n",
            " dropout_24 (Dropout)        (None, 64, 128)              0         ['dense_26[0][0]']            \n",
            "                                                                                                  \n",
            " add_21 (Add)                (None, 64, 128)              0         ['dropout_24[0][0]',          \n",
            "                                                                     'add_20[0][0]']              \n",
            "                                                                                                  \n",
            " layer_normalization_23 (La  (None, 64, 128)              256       ['add_21[0][0]']              \n",
            " yerNormalization)                                                                                \n",
            "                                                                                                  \n",
            " multi_head_attention_11 (M  (None, 64, 128)              527488    ['layer_normalization_23[0][0]\n",
            " ultiHeadAttention)                                                 ',                            \n",
            "                                                                     'layer_normalization_23[0][0]\n",
            "                                                                    ']                            \n",
            "                                                                                                  \n",
            " add_22 (Add)                (None, 64, 128)              0         ['multi_head_attention_11[0][0\n",
            "                                                                    ]',                           \n",
            "                                                                     'add_21[0][0]']              \n",
            "                                                                                                  \n",
            " layer_normalization_24 (La  (None, 64, 128)              256       ['add_22[0][0]']              \n",
            " yerNormalization)                                                                                \n",
            "                                                                                                  \n",
            " dense_27 (Dense)            (None, 64, 256)              33024     ['layer_normalization_24[0][0]\n",
            "                                                                    ']                            \n",
            "                                                                                                  \n",
            " dropout_25 (Dropout)        (None, 64, 256)              0         ['dense_27[0][0]']            \n",
            "                                                                                                  \n",
            " dense_28 (Dense)            (None, 64, 128)              32896     ['dropout_25[0][0]']          \n",
            "                                                                                                  \n",
            " dropout_26 (Dropout)        (None, 64, 128)              0         ['dense_28[0][0]']            \n",
            "                                                                                                  \n",
            " add_23 (Add)                (None, 64, 128)              0         ['dropout_26[0][0]',          \n",
            "                                                                     'add_22[0][0]']              \n",
            "                                                                                                  \n",
            " layer_normalization_25 (La  (None, 64, 128)              256       ['add_23[0][0]']              \n",
            " yerNormalization)                                                                                \n",
            "                                                                                                  \n",
            " multi_head_attention_12 (M  (None, 64, 128)              527488    ['layer_normalization_25[0][0]\n",
            " ultiHeadAttention)                                                 ',                            \n",
            "                                                                     'layer_normalization_25[0][0]\n",
            "                                                                    ']                            \n",
            "                                                                                                  \n",
            " add_24 (Add)                (None, 64, 128)              0         ['multi_head_attention_12[0][0\n",
            "                                                                    ]',                           \n",
            "                                                                     'add_23[0][0]']              \n",
            "                                                                                                  \n",
            " layer_normalization_26 (La  (None, 64, 128)              256       ['add_24[0][0]']              \n",
            " yerNormalization)                                                                                \n",
            "                                                                                                  \n",
            " dense_29 (Dense)            (None, 64, 256)              33024     ['layer_normalization_26[0][0]\n",
            "                                                                    ']                            \n",
            "                                                                                                  \n",
            " dropout_27 (Dropout)        (None, 64, 256)              0         ['dense_29[0][0]']            \n",
            "                                                                                                  \n",
            " dense_30 (Dense)            (None, 64, 128)              32896     ['dropout_27[0][0]']          \n",
            "                                                                                                  \n",
            " dropout_28 (Dropout)        (None, 64, 128)              0         ['dense_30[0][0]']            \n",
            "                                                                                                  \n",
            " add_25 (Add)                (None, 64, 128)              0         ['dropout_28[0][0]',          \n",
            "                                                                     'add_24[0][0]']              \n",
            "                                                                                                  \n",
            " layer_normalization_27 (La  (None, 64, 128)              256       ['add_25[0][0]']              \n",
            " yerNormalization)                                                                                \n",
            "                                                                                                  \n",
            " multi_head_attention_13 (M  (None, 64, 128)              527488    ['layer_normalization_27[0][0]\n",
            " ultiHeadAttention)                                                 ',                            \n",
            "                                                                     'layer_normalization_27[0][0]\n",
            "                                                                    ']                            \n",
            "                                                                                                  \n",
            " add_26 (Add)                (None, 64, 128)              0         ['multi_head_attention_13[0][0\n",
            "                                                                    ]',                           \n",
            "                                                                     'add_25[0][0]']              \n",
            "                                                                                                  \n",
            " layer_normalization_28 (La  (None, 64, 128)              256       ['add_26[0][0]']              \n",
            " yerNormalization)                                                                                \n",
            "                                                                                                  \n",
            " dense_31 (Dense)            (None, 64, 256)              33024     ['layer_normalization_28[0][0]\n",
            "                                                                    ']                            \n",
            "                                                                                                  \n",
            " dropout_29 (Dropout)        (None, 64, 256)              0         ['dense_31[0][0]']            \n",
            "                                                                                                  \n",
            " dense_32 (Dense)            (None, 64, 128)              32896     ['dropout_29[0][0]']          \n",
            "                                                                                                  \n",
            " dropout_30 (Dropout)        (None, 64, 128)              0         ['dense_32[0][0]']            \n",
            "                                                                                                  \n",
            " add_27 (Add)                (None, 64, 128)              0         ['dropout_30[0][0]',          \n",
            "                                                                     'add_26[0][0]']              \n",
            "                                                                                                  \n",
            " layer_normalization_29 (La  (None, 64, 128)              256       ['add_27[0][0]']              \n",
            " yerNormalization)                                                                                \n",
            "                                                                                                  \n",
            " multi_head_attention_14 (M  (None, 64, 128)              527488    ['layer_normalization_29[0][0]\n",
            " ultiHeadAttention)                                                 ',                            \n",
            "                                                                     'layer_normalization_29[0][0]\n",
            "                                                                    ']                            \n",
            "                                                                                                  \n",
            " add_28 (Add)                (None, 64, 128)              0         ['multi_head_attention_14[0][0\n",
            "                                                                    ]',                           \n",
            "                                                                     'add_27[0][0]']              \n",
            "                                                                                                  \n",
            " layer_normalization_30 (La  (None, 64, 128)              256       ['add_28[0][0]']              \n",
            " yerNormalization)                                                                                \n",
            "                                                                                                  \n",
            " dense_33 (Dense)            (None, 64, 256)              33024     ['layer_normalization_30[0][0]\n",
            "                                                                    ']                            \n",
            "                                                                                                  \n",
            " dropout_31 (Dropout)        (None, 64, 256)              0         ['dense_33[0][0]']            \n",
            "                                                                                                  \n",
            " dense_34 (Dense)            (None, 64, 128)              32896     ['dropout_31[0][0]']          \n",
            "                                                                                                  \n",
            " dropout_32 (Dropout)        (None, 64, 128)              0         ['dense_34[0][0]']            \n",
            "                                                                                                  \n",
            " add_29 (Add)                (None, 64, 128)              0         ['dropout_32[0][0]',          \n",
            "                                                                     'add_28[0][0]']              \n",
            "                                                                                                  \n",
            " layer_normalization_31 (La  (None, 64, 128)              256       ['add_29[0][0]']              \n",
            " yerNormalization)                                                                                \n",
            "                                                                                                  \n",
            " multi_head_attention_15 (M  (None, 64, 128)              527488    ['layer_normalization_31[0][0]\n",
            " ultiHeadAttention)                                                 ',                            \n",
            "                                                                     'layer_normalization_31[0][0]\n",
            "                                                                    ']                            \n",
            "                                                                                                  \n",
            " add_30 (Add)                (None, 64, 128)              0         ['multi_head_attention_15[0][0\n",
            "                                                                    ]',                           \n",
            "                                                                     'add_29[0][0]']              \n",
            "                                                                                                  \n",
            " layer_normalization_32 (La  (None, 64, 128)              256       ['add_30[0][0]']              \n",
            " yerNormalization)                                                                                \n",
            "                                                                                                  \n",
            " dense_35 (Dense)            (None, 64, 256)              33024     ['layer_normalization_32[0][0]\n",
            "                                                                    ']                            \n",
            "                                                                                                  \n",
            " dropout_33 (Dropout)        (None, 64, 256)              0         ['dense_35[0][0]']            \n",
            "                                                                                                  \n",
            " dense_36 (Dense)            (None, 64, 128)              32896     ['dropout_33[0][0]']          \n",
            "                                                                                                  \n",
            " dropout_34 (Dropout)        (None, 64, 128)              0         ['dense_36[0][0]']            \n",
            "                                                                                                  \n",
            " add_31 (Add)                (None, 64, 128)              0         ['dropout_34[0][0]',          \n",
            "                                                                     'add_30[0][0]']              \n",
            "                                                                                                  \n",
            " layer_normalization_33 (La  (None, 64, 128)              256       ['add_31[0][0]']              \n",
            " yerNormalization)                                                                                \n",
            "                                                                                                  \n",
            " flatten_1 (Flatten)         (None, 8192)                 0         ['layer_normalization_33[0][0]\n",
            "                                                                    ']                            \n",
            "                                                                                                  \n",
            " dropout_35 (Dropout)        (None, 8192)                 0         ['flatten_1[0][0]']           \n",
            "                                                                                                  \n",
            " dense_37 (Dense)            (None, 2048)                 1677926   ['dropout_35[0][0]']          \n",
            "                                                          4                                       \n",
            "                                                                                                  \n",
            " dropout_36 (Dropout)        (None, 2048)                 0         ['dense_37[0][0]']            \n",
            "                                                                                                  \n",
            " dense_38 (Dense)            (None, 1024)                 2098176   ['dropout_36[0][0]']          \n",
            "                                                                                                  \n",
            " dropout_37 (Dropout)        (None, 1024)                 0         ['dense_38[0][0]']            \n",
            "                                                                                                  \n",
            " dense_39 (Dense)            (None, 10)                   10250     ['dropout_37[0][0]']          \n",
            "                                                                                                  \n",
            "==================================================================================================\n",
            "Total params: 23745957 (90.58 MB)\n",
            "Trainable params: 23745930 (90.58 MB)\n",
            "Non-trainable params: 27 (112.00 Byte)\n",
            "__________________________________________________________________________________________________\n"
          ]
        }
      ]
    },
    {
      "cell_type": "code",
      "source": [
        "optimizer = keras.optimizers.Adam(learning_rate=0.0001)  # Adam optimizer with specified learning rate\n",
        "\n",
        "model.compile(\n",
        "    optimizer=optimizer,  # Set the optimizer\n",
        "    loss=keras.losses.CategoricalCrossentropy(),  # Categorical crossentropy loss function\n",
        "    metrics=['accuracy'],  # Evaluation metric: accuracy\n",
        ")"
      ],
      "metadata": {
        "id": "rDGpgc_jxZgZ"
      },
      "execution_count": null,
      "outputs": []
    },
    {
      "cell_type": "code",
      "source": [
        "history = model.fit(\n",
        "    x_train,  # Training data\n",
        "    y_train,  # Training labels\n",
        "    epochs=100,  # Number of epochs\n",
        "    validation_data=(x_val, y_val),  # Validation data and labels\n",
        ")"
      ],
      "metadata": {
        "colab": {
          "base_uri": "https://localhost:8080/"
        },
        "id": "FVdiL6JIMRMD",
        "outputId": "28b32157-6839-49cc-8cbb-43753660ff66"
      },
      "execution_count": null,
      "outputs": [
        {
          "output_type": "stream",
          "name": "stdout",
          "text": [
            "Epoch 1/100\n",
            "29/29 [==============================] - 34s 127ms/step - loss: 3.2300 - accuracy: 0.2511 - val_loss: 2.0016 - val_accuracy: 0.4500\n",
            "Epoch 2/100\n",
            "29/29 [==============================] - 2s 77ms/step - loss: 2.3814 - accuracy: 0.3611 - val_loss: 2.2655 - val_accuracy: 0.4500\n",
            "Epoch 3/100\n",
            "29/29 [==============================] - 2s 82ms/step - loss: 2.1140 - accuracy: 0.4200 - val_loss: 2.6755 - val_accuracy: 0.3800\n",
            "Epoch 4/100\n",
            "29/29 [==============================] - 3s 89ms/step - loss: 1.9119 - accuracy: 0.4400 - val_loss: 2.4977 - val_accuracy: 0.4400\n",
            "Epoch 5/100\n",
            "29/29 [==============================] - 2s 78ms/step - loss: 1.8210 - accuracy: 0.4833 - val_loss: 2.9681 - val_accuracy: 0.4300\n",
            "Epoch 6/100\n",
            "29/29 [==============================] - 2s 76ms/step - loss: 1.7629 - accuracy: 0.4789 - val_loss: 2.8338 - val_accuracy: 0.4300\n",
            "Epoch 7/100\n",
            "29/29 [==============================] - 2s 78ms/step - loss: 1.5097 - accuracy: 0.5333 - val_loss: 2.3504 - val_accuracy: 0.5200\n",
            "Epoch 8/100\n",
            "29/29 [==============================] - 2s 79ms/step - loss: 1.5395 - accuracy: 0.5244 - val_loss: 2.5889 - val_accuracy: 0.4900\n",
            "Epoch 9/100\n",
            "29/29 [==============================] - 2s 86ms/step - loss: 1.4649 - accuracy: 0.5322 - val_loss: 3.2591 - val_accuracy: 0.3800\n",
            "Epoch 10/100\n",
            "29/29 [==============================] - 3s 86ms/step - loss: 1.3463 - accuracy: 0.5711 - val_loss: 3.6053 - val_accuracy: 0.4100\n",
            "Epoch 11/100\n",
            "29/29 [==============================] - 2s 78ms/step - loss: 1.3902 - accuracy: 0.5611 - val_loss: 2.9021 - val_accuracy: 0.4500\n",
            "Epoch 12/100\n",
            "29/29 [==============================] - 2s 79ms/step - loss: 1.3051 - accuracy: 0.5833 - val_loss: 2.4361 - val_accuracy: 0.4400\n",
            "Epoch 13/100\n",
            "29/29 [==============================] - 2s 78ms/step - loss: 1.2233 - accuracy: 0.6056 - val_loss: 2.2665 - val_accuracy: 0.4600\n",
            "Epoch 14/100\n",
            "29/29 [==============================] - 2s 78ms/step - loss: 1.1555 - accuracy: 0.6422 - val_loss: 2.6552 - val_accuracy: 0.4900\n",
            "Epoch 15/100\n",
            "29/29 [==============================] - 3s 91ms/step - loss: 1.1494 - accuracy: 0.6311 - val_loss: 2.5319 - val_accuracy: 0.4900\n",
            "Epoch 16/100\n",
            "29/29 [==============================] - 2s 84ms/step - loss: 1.0993 - accuracy: 0.6589 - val_loss: 2.8876 - val_accuracy: 0.4500\n",
            "Epoch 17/100\n",
            "29/29 [==============================] - 2s 79ms/step - loss: 1.0556 - accuracy: 0.6467 - val_loss: 2.1175 - val_accuracy: 0.5000\n",
            "Epoch 18/100\n",
            "29/29 [==============================] - 2s 78ms/step - loss: 1.0277 - accuracy: 0.6567 - val_loss: 2.4932 - val_accuracy: 0.4900\n",
            "Epoch 19/100\n",
            "29/29 [==============================] - 2s 80ms/step - loss: 1.0145 - accuracy: 0.6889 - val_loss: 2.2654 - val_accuracy: 0.4700\n",
            "Epoch 20/100\n",
            "29/29 [==============================] - 2s 82ms/step - loss: 1.0316 - accuracy: 0.6733 - val_loss: 2.2095 - val_accuracy: 0.5000\n",
            "Epoch 21/100\n",
            "29/29 [==============================] - 3s 93ms/step - loss: 0.8692 - accuracy: 0.7211 - val_loss: 2.0813 - val_accuracy: 0.5300\n",
            "Epoch 22/100\n",
            "29/29 [==============================] - 2s 77ms/step - loss: 0.8859 - accuracy: 0.7222 - val_loss: 2.0836 - val_accuracy: 0.4800\n",
            "Epoch 23/100\n",
            "29/29 [==============================] - 2s 78ms/step - loss: 0.9534 - accuracy: 0.6922 - val_loss: 2.3928 - val_accuracy: 0.5400\n",
            "Epoch 24/100\n",
            "29/29 [==============================] - 2s 79ms/step - loss: 0.8113 - accuracy: 0.7433 - val_loss: 2.2906 - val_accuracy: 0.5100\n",
            "Epoch 25/100\n",
            "29/29 [==============================] - 2s 78ms/step - loss: 0.7771 - accuracy: 0.7389 - val_loss: 2.4677 - val_accuracy: 0.5000\n",
            "Epoch 26/100\n",
            "29/29 [==============================] - 2s 85ms/step - loss: 0.8584 - accuracy: 0.7144 - val_loss: 2.5803 - val_accuracy: 0.4900\n",
            "Epoch 27/100\n",
            "29/29 [==============================] - 3s 88ms/step - loss: 0.7870 - accuracy: 0.7411 - val_loss: 2.5384 - val_accuracy: 0.4700\n",
            "Epoch 28/100\n",
            "29/29 [==============================] - 2s 78ms/step - loss: 0.6650 - accuracy: 0.7767 - val_loss: 2.6228 - val_accuracy: 0.4900\n",
            "Epoch 29/100\n",
            "29/29 [==============================] - 2s 79ms/step - loss: 0.6314 - accuracy: 0.7889 - val_loss: 2.2990 - val_accuracy: 0.5100\n",
            "Epoch 30/100\n",
            "29/29 [==============================] - 2s 78ms/step - loss: 0.6188 - accuracy: 0.7989 - val_loss: 2.3409 - val_accuracy: 0.4900\n",
            "Epoch 31/100\n",
            "29/29 [==============================] - 2s 78ms/step - loss: 0.6080 - accuracy: 0.8022 - val_loss: 2.2429 - val_accuracy: 0.5400\n",
            "Epoch 32/100\n",
            "29/29 [==============================] - 3s 90ms/step - loss: 0.6319 - accuracy: 0.7889 - val_loss: 2.6720 - val_accuracy: 0.5200\n",
            "Epoch 33/100\n",
            "29/29 [==============================] - 2s 82ms/step - loss: 0.5764 - accuracy: 0.8033 - val_loss: 2.9385 - val_accuracy: 0.4800\n",
            "Epoch 34/100\n",
            "29/29 [==============================] - 2s 79ms/step - loss: 0.8118 - accuracy: 0.7333 - val_loss: 2.6819 - val_accuracy: 0.4500\n",
            "Epoch 35/100\n",
            "29/29 [==============================] - 2s 76ms/step - loss: 0.6161 - accuracy: 0.7867 - val_loss: 2.2762 - val_accuracy: 0.4800\n",
            "Epoch 36/100\n",
            "29/29 [==============================] - 2s 76ms/step - loss: 0.5852 - accuracy: 0.8133 - val_loss: 2.4731 - val_accuracy: 0.5400\n",
            "Epoch 37/100\n",
            "29/29 [==============================] - 3s 89ms/step - loss: 0.4871 - accuracy: 0.8256 - val_loss: 2.6493 - val_accuracy: 0.5100\n",
            "Epoch 38/100\n",
            "29/29 [==============================] - 3s 105ms/step - loss: 0.4748 - accuracy: 0.8367 - val_loss: 2.3073 - val_accuracy: 0.5100\n",
            "Epoch 39/100\n",
            "29/29 [==============================] - 3s 93ms/step - loss: 0.4970 - accuracy: 0.8322 - val_loss: 2.4931 - val_accuracy: 0.5000\n",
            "Epoch 40/100\n",
            "29/29 [==============================] - 2s 77ms/step - loss: 0.4856 - accuracy: 0.8289 - val_loss: 2.3365 - val_accuracy: 0.5500\n",
            "Epoch 41/100\n",
            "29/29 [==============================] - 2s 76ms/step - loss: 0.5611 - accuracy: 0.8211 - val_loss: 2.9376 - val_accuracy: 0.4700\n",
            "Epoch 42/100\n",
            "29/29 [==============================] - 2s 79ms/step - loss: 0.4776 - accuracy: 0.8389 - val_loss: 3.3034 - val_accuracy: 0.4300\n",
            "Epoch 43/100\n",
            "29/29 [==============================] - 2s 79ms/step - loss: 0.5393 - accuracy: 0.8378 - val_loss: 3.0072 - val_accuracy: 0.4700\n",
            "Epoch 44/100\n",
            "29/29 [==============================] - 3s 90ms/step - loss: 0.4398 - accuracy: 0.8622 - val_loss: 2.8233 - val_accuracy: 0.5300\n",
            "Epoch 45/100\n",
            "29/29 [==============================] - 2s 83ms/step - loss: 0.4650 - accuracy: 0.8511 - val_loss: 2.5184 - val_accuracy: 0.5700\n",
            "Epoch 46/100\n",
            "29/29 [==============================] - 2s 79ms/step - loss: 0.3947 - accuracy: 0.8767 - val_loss: 2.5756 - val_accuracy: 0.5100\n",
            "Epoch 47/100\n",
            "29/29 [==============================] - 2s 79ms/step - loss: 0.3855 - accuracy: 0.8700 - val_loss: 2.4764 - val_accuracy: 0.5000\n",
            "Epoch 48/100\n",
            "29/29 [==============================] - 2s 79ms/step - loss: 0.2894 - accuracy: 0.9000 - val_loss: 3.0088 - val_accuracy: 0.4700\n",
            "Epoch 49/100\n",
            "29/29 [==============================] - 2s 83ms/step - loss: 0.2926 - accuracy: 0.8933 - val_loss: 2.6948 - val_accuracy: 0.5200\n",
            "Epoch 50/100\n",
            "29/29 [==============================] - 3s 91ms/step - loss: 0.3825 - accuracy: 0.8844 - val_loss: 2.9902 - val_accuracy: 0.4700\n",
            "Epoch 51/100\n",
            "29/29 [==============================] - 2s 77ms/step - loss: 0.3524 - accuracy: 0.8956 - val_loss: 2.6260 - val_accuracy: 0.5300\n",
            "Epoch 52/100\n",
            "29/29 [==============================] - 2s 77ms/step - loss: 0.2879 - accuracy: 0.9011 - val_loss: 2.5386 - val_accuracy: 0.5100\n",
            "Epoch 53/100\n",
            "29/29 [==============================] - 2s 79ms/step - loss: 0.2767 - accuracy: 0.9089 - val_loss: 2.6070 - val_accuracy: 0.5100\n",
            "Epoch 54/100\n",
            "29/29 [==============================] - 2s 79ms/step - loss: 0.4330 - accuracy: 0.8544 - val_loss: 2.7024 - val_accuracy: 0.5300\n",
            "Epoch 55/100\n",
            "29/29 [==============================] - 3s 88ms/step - loss: 0.3626 - accuracy: 0.8856 - val_loss: 2.8235 - val_accuracy: 0.5300\n",
            "Epoch 56/100\n",
            "29/29 [==============================] - 3s 87ms/step - loss: 0.3844 - accuracy: 0.8911 - val_loss: 2.7099 - val_accuracy: 0.5400\n",
            "Epoch 57/100\n",
            "29/29 [==============================] - 2s 79ms/step - loss: 0.5181 - accuracy: 0.8300 - val_loss: 3.1180 - val_accuracy: 0.5400\n",
            "Epoch 58/100\n",
            "29/29 [==============================] - 2s 77ms/step - loss: 0.3171 - accuracy: 0.9022 - val_loss: 3.1595 - val_accuracy: 0.5900\n",
            "Epoch 59/100\n",
            "29/29 [==============================] - 2s 79ms/step - loss: 0.2613 - accuracy: 0.9089 - val_loss: 3.5634 - val_accuracy: 0.5300\n",
            "Epoch 60/100\n",
            "29/29 [==============================] - 2s 79ms/step - loss: 0.2515 - accuracy: 0.9089 - val_loss: 3.2127 - val_accuracy: 0.5500\n",
            "Epoch 61/100\n",
            "29/29 [==============================] - 3s 91ms/step - loss: 0.2287 - accuracy: 0.9256 - val_loss: 3.2121 - val_accuracy: 0.5200\n",
            "Epoch 62/100\n",
            "29/29 [==============================] - 2s 82ms/step - loss: 0.2069 - accuracy: 0.9267 - val_loss: 3.3355 - val_accuracy: 0.4800\n",
            "Epoch 63/100\n",
            "29/29 [==============================] - 2s 79ms/step - loss: 0.2557 - accuracy: 0.9189 - val_loss: 3.1422 - val_accuracy: 0.5400\n",
            "Epoch 64/100\n",
            "29/29 [==============================] - 2s 77ms/step - loss: 0.6141 - accuracy: 0.8344 - val_loss: 3.0347 - val_accuracy: 0.5000\n",
            "Epoch 65/100\n",
            "29/29 [==============================] - 2s 78ms/step - loss: 0.3302 - accuracy: 0.8778 - val_loss: 2.8279 - val_accuracy: 0.5400\n",
            "Epoch 66/100\n",
            "29/29 [==============================] - 2s 83ms/step - loss: 0.2341 - accuracy: 0.9211 - val_loss: 3.6217 - val_accuracy: 0.5200\n",
            "Epoch 67/100\n",
            "29/29 [==============================] - 3s 89ms/step - loss: 0.2417 - accuracy: 0.9211 - val_loss: 3.6974 - val_accuracy: 0.5100\n",
            "Epoch 68/100\n",
            "29/29 [==============================] - 2s 79ms/step - loss: 0.2272 - accuracy: 0.9311 - val_loss: 3.4594 - val_accuracy: 0.5700\n",
            "Epoch 69/100\n",
            "29/29 [==============================] - 2s 78ms/step - loss: 0.2583 - accuracy: 0.9256 - val_loss: 3.6859 - val_accuracy: 0.5200\n",
            "Epoch 70/100\n",
            "29/29 [==============================] - 2s 77ms/step - loss: 0.2363 - accuracy: 0.9278 - val_loss: 3.2361 - val_accuracy: 0.5200\n",
            "Epoch 71/100\n",
            "29/29 [==============================] - 2s 78ms/step - loss: 0.2883 - accuracy: 0.9033 - val_loss: 3.5920 - val_accuracy: 0.5100\n",
            "Epoch 72/100\n",
            "29/29 [==============================] - 3s 87ms/step - loss: 0.2937 - accuracy: 0.9178 - val_loss: 3.1479 - val_accuracy: 0.5000\n",
            "Epoch 73/100\n",
            "29/29 [==============================] - 3s 86ms/step - loss: 0.2087 - accuracy: 0.9333 - val_loss: 3.1320 - val_accuracy: 0.5400\n",
            "Epoch 74/100\n",
            "29/29 [==============================] - 2s 77ms/step - loss: 0.1889 - accuracy: 0.9389 - val_loss: 3.1602 - val_accuracy: 0.5200\n",
            "Epoch 75/100\n",
            "29/29 [==============================] - 2s 78ms/step - loss: 0.1833 - accuracy: 0.9433 - val_loss: 3.3675 - val_accuracy: 0.5700\n",
            "Epoch 76/100\n",
            "29/29 [==============================] - 2s 77ms/step - loss: 0.3267 - accuracy: 0.9178 - val_loss: 2.8486 - val_accuracy: 0.5000\n",
            "Epoch 77/100\n",
            "29/29 [==============================] - 2s 77ms/step - loss: 0.2537 - accuracy: 0.9367 - val_loss: 2.5844 - val_accuracy: 0.5100\n",
            "Epoch 78/100\n",
            "29/29 [==============================] - 3s 91ms/step - loss: 0.2355 - accuracy: 0.9222 - val_loss: 2.3000 - val_accuracy: 0.5300\n",
            "Epoch 79/100\n",
            "29/29 [==============================] - 2s 81ms/step - loss: 0.1747 - accuracy: 0.9489 - val_loss: 2.5316 - val_accuracy: 0.5300\n",
            "Epoch 80/100\n",
            "29/29 [==============================] - 2s 78ms/step - loss: 0.1908 - accuracy: 0.9344 - val_loss: 2.6983 - val_accuracy: 0.5200\n",
            "Epoch 81/100\n",
            "29/29 [==============================] - 2s 77ms/step - loss: 0.2249 - accuracy: 0.9333 - val_loss: 3.1055 - val_accuracy: 0.5100\n",
            "Epoch 82/100\n",
            "29/29 [==============================] - 2s 78ms/step - loss: 0.1688 - accuracy: 0.9456 - val_loss: 2.8252 - val_accuracy: 0.5100\n",
            "Epoch 83/100\n",
            "29/29 [==============================] - 2s 82ms/step - loss: 0.1696 - accuracy: 0.9444 - val_loss: 3.0544 - val_accuracy: 0.5000\n",
            "Epoch 84/100\n",
            "29/29 [==============================] - 3s 92ms/step - loss: 0.1322 - accuracy: 0.9589 - val_loss: 3.2841 - val_accuracy: 0.5500\n",
            "Epoch 85/100\n",
            "29/29 [==============================] - 2s 80ms/step - loss: 0.1384 - accuracy: 0.9522 - val_loss: 3.1631 - val_accuracy: 0.5300\n",
            "Epoch 86/100\n",
            "29/29 [==============================] - 2s 77ms/step - loss: 0.1366 - accuracy: 0.9556 - val_loss: 3.2685 - val_accuracy: 0.5500\n",
            "Epoch 87/100\n",
            "29/29 [==============================] - 2s 79ms/step - loss: 0.1584 - accuracy: 0.9489 - val_loss: 3.3189 - val_accuracy: 0.5200\n",
            "Epoch 88/100\n",
            "29/29 [==============================] - 2s 78ms/step - loss: 0.1590 - accuracy: 0.9500 - val_loss: 3.3931 - val_accuracy: 0.5300\n",
            "Epoch 89/100\n",
            "29/29 [==============================] - 2s 86ms/step - loss: 0.1430 - accuracy: 0.9533 - val_loss: 3.1297 - val_accuracy: 0.5100\n",
            "Epoch 90/100\n",
            "29/29 [==============================] - 3s 87ms/step - loss: 0.1371 - accuracy: 0.9500 - val_loss: 3.3730 - val_accuracy: 0.5300\n",
            "Epoch 91/100\n",
            "29/29 [==============================] - 2s 76ms/step - loss: 0.1455 - accuracy: 0.9589 - val_loss: 2.9046 - val_accuracy: 0.5800\n",
            "Epoch 92/100\n",
            "29/29 [==============================] - 2s 77ms/step - loss: 0.1898 - accuracy: 0.9400 - val_loss: 3.1286 - val_accuracy: 0.5100\n",
            "Epoch 93/100\n",
            "29/29 [==============================] - 2s 79ms/step - loss: 0.1281 - accuracy: 0.9600 - val_loss: 3.0725 - val_accuracy: 0.5400\n",
            "Epoch 94/100\n",
            "29/29 [==============================] - 2s 78ms/step - loss: 0.1638 - accuracy: 0.9422 - val_loss: 3.5002 - val_accuracy: 0.5300\n",
            "Epoch 95/100\n",
            "29/29 [==============================] - 3s 105ms/step - loss: 0.1616 - accuracy: 0.9589 - val_loss: 3.0575 - val_accuracy: 0.5300\n",
            "Epoch 96/100\n",
            "29/29 [==============================] - 3s 105ms/step - loss: 0.1700 - accuracy: 0.9478 - val_loss: 3.1615 - val_accuracy: 0.5600\n",
            "Epoch 97/100\n",
            "29/29 [==============================] - 2s 78ms/step - loss: 0.1088 - accuracy: 0.9722 - val_loss: 2.8077 - val_accuracy: 0.5800\n",
            "Epoch 98/100\n",
            "29/29 [==============================] - 2s 79ms/step - loss: 0.1076 - accuracy: 0.9611 - val_loss: 3.2893 - val_accuracy: 0.5200\n",
            "Epoch 99/100\n",
            "29/29 [==============================] - 2s 79ms/step - loss: 0.2846 - accuracy: 0.9233 - val_loss: 3.8602 - val_accuracy: 0.5300\n",
            "Epoch 100/100\n",
            "29/29 [==============================] - 2s 79ms/step - loss: 0.1448 - accuracy: 0.9489 - val_loss: 3.4373 - val_accuracy: 0.5900\n"
          ]
        }
      ]
    },
    {
      "cell_type": "code",
      "source": [],
      "metadata": {
        "id": "7fN04iFYMRPE"
      },
      "execution_count": null,
      "outputs": []
    },
    {
      "cell_type": "code",
      "source": [],
      "metadata": {
        "id": "88L6bbBoMRSN"
      },
      "execution_count": null,
      "outputs": []
    },
    {
      "cell_type": "code",
      "source": [],
      "metadata": {
        "id": "t5YFt6N7xZkm"
      },
      "execution_count": null,
      "outputs": []
    },
    {
      "cell_type": "code",
      "source": [],
      "metadata": {
        "id": "gCi2k8F9jAwy"
      },
      "execution_count": null,
      "outputs": []
    },
    {
      "cell_type": "code",
      "source": [],
      "metadata": {
        "id": "I2RmS5dijA6S"
      },
      "execution_count": null,
      "outputs": []
    },
    {
      "cell_type": "code",
      "source": [],
      "metadata": {
        "id": "w-66MBL2MkSD"
      },
      "execution_count": null,
      "outputs": []
    },
    {
      "cell_type": "code",
      "source": [],
      "metadata": {
        "id": "f7O4jyDIMkak"
      },
      "execution_count": null,
      "outputs": []
    },
    {
      "cell_type": "code",
      "source": [
        "data_augmentation = keras.Sequential(\n",
        "    [\n",
        "        layers.experimental.preprocessing.Normalization(),\n",
        "        layers.experimental.preprocessing.RandomFlip(\"horizontal\"),\n",
        "        layers.experimental.preprocessing.RandomRotation(factor=0.02),\n",
        "        layers.experimental.preprocessing.RandomContrast(0.04),\n",
        "        layers.experimental.preprocessing.RandomZoom(\n",
        "            height_factor=0.2, width_factor=0.2\n",
        "        ),\n",
        "    ],\n",
        "    name=\"data_augmentation\",\n",
        ")\n",
        "\n",
        "data_augmentation.layers[0].adapt(x_train)"
      ],
      "metadata": {
        "id": "EmXOLSCxSbJE"
      },
      "execution_count": null,
      "outputs": []
    },
    {
      "cell_type": "code",
      "source": [],
      "metadata": {
        "id": "wnrYmyzz66Qv"
      },
      "execution_count": null,
      "outputs": []
    },
    {
      "cell_type": "code",
      "source": [
        "index=0\n",
        "number_of_bands=1\n",
        "\n",
        "sample_data=x_train[index:index+1,:,:,number_of_bands:number_of_bands+1]\n",
        "\n",
        "patches = Ex_patches(sample_data)\n",
        "\n",
        "print(f\"Image size: {image_size} X {image_size}\")\n",
        "print(f\"Patch size: {patch_size_in_vit} X {patch_size_in_vit}\")\n",
        "print(f\"Patches per image: {patches.shape[1]}\")\n",
        "print(f\"Elements per patch: {patches.shape[-1]}\")"
      ],
      "metadata": {
        "colab": {
          "base_uri": "https://localhost:8080/"
        },
        "id": "BPEkMDuL7v_f",
        "outputId": "ca23ed12-5852-4974-ab74-52f3c5b913b6"
      },
      "execution_count": null,
      "outputs": [
        {
          "output_type": "stream",
          "name": "stdout",
          "text": [
            "Image size: 64 X 64\n",
            "Patch size: 8 X 8\n",
            "Patches per image: 64\n",
            "Elements per patch: 64\n"
          ]
        }
      ]
    },
    {
      "cell_type": "code",
      "source": [
        "n = int(np.sqrt(patches.shape[1]))\n",
        "plt.figure(figsize=(4, 4))\n",
        "for i, patch in enumerate(patches[0]):\n",
        "    ax = plt.subplot(n, n, i + 1)\n",
        "    patch_img = tf.reshape(patch, (patch_size_in_vit, patch_size_in_vit))\n",
        "    plt.imshow(patch_img.numpy())\n",
        "    plt.axis(\"off\")"
      ],
      "metadata": {
        "colab": {
          "base_uri": "https://localhost:8080/",
          "height": 345
        },
        "id": "GLA1KA9j8sjR",
        "outputId": "967712f8-90e0-47e5-fd2e-72f997b4ed6c"
      },
      "execution_count": null,
      "outputs": [
        {
          "output_type": "display_data",
          "data": {
            "text/plain": [
              "<Figure size 400x400 with 64 Axes>"
            ],
            "image/png": "[encoded data removed]"
          },
          "metadata": {}
        }
      ]
    },
    {
      "cell_type": "code",
      "source": [],
      "metadata": {
        "id": "v1iNItAwMhN4"
      },
      "execution_count": null,
      "outputs": []
    },
    {
      "cell_type": "code",
      "source": [],
      "metadata": {
        "id": "s1mVasF-MhRC"
      },
      "execution_count": null,
      "outputs": []
    },
    {
      "cell_type": "code",
      "source": [],
      "metadata": {
        "id": "lM_MRwcFMhUY"
      },
      "execution_count": null,
      "outputs": []
    },
    {
      "cell_type": "code",
      "source": [],
      "metadata": {
        "id": "ZPFjO6rTMhXu"
      },
      "execution_count": null,
      "outputs": []
    }
  ]
}